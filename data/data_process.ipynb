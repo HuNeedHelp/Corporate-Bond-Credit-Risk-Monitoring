{
 "cells": [
  {
   "cell_type": "code",
   "execution_count": 2,
   "metadata": {},
   "outputs": [
    {
     "name": "stdout",
     "output_type": "stream",
     "text": [
      "(77413, 14)\n",
      "(77413, 13)\n",
      "(77413, 3)\n",
      "(77413, 17)\n",
      " (56867, 41)\n",
      "max time span: 160\n",
      "min time span: 20\n"
     ]
    }
   ],
   "source": [
    "# Merge data\n",
    "import pandas as pd\n",
    "from functools import reduce\n",
    "path_dict = {\n",
    "    'bond_data': 'bond_data.csv',\n",
    "    'enterprise_data': 'enterprise_data_10.csv',\n",
    "    'spread_data': 'spread_data.csv',\n",
    "    'macro_data': 'macro_data.csv'\n",
    "}\n",
    "\n",
    "bond_data = pd.read_csv(path_dict['bond_data'])\n",
    "enterprise_data = pd.read_csv(path_dict['enterprise_data'])\n",
    "spread_data = pd.read_csv(path_dict['spread_data'])\n",
    "macro_data = pd.read_csv(path_dict['macro_data'])\n",
    "\n",
    "for data, path in zip([bond_data, enterprise_data, spread_data, macro_data], path_dict.values()):\n",
    "    # print(data.info())\n",
    "    # print('\\n')\n",
    "    # print(data.describe())\n",
    "    print(data.shape)\n",
    "    data.sort_values(by=['债券代码', '交易日期'], inplace=True)\n",
    "    data.to_csv(path, index=False)\n",
    "\n",
    "all_data = reduce(lambda left, right: pd.merge(left, right, on=['债券代码', '交易日期'], how='outer'), [bond_data, enterprise_data, macro_data, spread_data])\n",
    "all_data.to_csv('all_data.csv', index=False)\n",
    "\n",
    "bonds_to_drop = all_data[all_data['spread'] > 26]['债券代码'].unique()\n",
    "all_data = all_data[~all_data['债券代码'].isin(bonds_to_drop)]\n",
    "time_span = all_data.groupby('债券代码').size()\n",
    "min_span = 20\n",
    "max_span = 160 \n",
    "valid_bonds = time_span[(time_span >= min_span) & (time_span <= max_span)].index\n",
    "\n",
    "all_data = all_data[all_data['债券代码'].isin(valid_bonds)]\n",
    "all_data.to_csv('all_data.csv', index=False)\n",
    "\n",
    "time_span = all_data.groupby('债券代码').size()\n",
    "time_span.to_csv('time_span.csv')\n",
    "print(f' {all_data.shape}')\n",
    "print(f'max time span: {time_span.max()}')\n",
    "print(f'min time span: {time_span.min()}')"
   ]
  },
  {
   "cell_type": "code",
   "execution_count": 3,
   "metadata": {},
   "outputs": [
    {
     "name": "stdout",
     "output_type": "stream",
     "text": [
      "(44901, 41)\n",
      "(5591, 41)\n",
      "(6375, 41)\n"
     ]
    }
   ],
   "source": [
    "# split data\n",
    "# from sklearn.model_selection import train_test_split\n",
    "train_data, valid_data, test_data = [], [], []  # 数据集拆分比例 8:1:1\n",
    "for group in all_data.groupby('债券代码'):\n",
    "    train = group[1].iloc[:int(0.8 * len(group[1]))]\n",
    "    valid = group[1].iloc[int(0.8 * len(group[1])) : int(0.9 * len(group[1]))]\n",
    "    test = group[1].iloc[int(0.9 * len(group[1])):]\n",
    "    train_data.append(train)\n",
    "    test_data.append(test)\n",
    "    valid_data.append(valid)\n",
    "train_data = pd.concat(train_data)\n",
    "test_data = pd.concat(test_data)\n",
    "valid_data = pd.concat(valid_data)\n",
    "\n",
    "print(train_data.shape)\n",
    "print(valid_data.shape)\n",
    "print(test_data.shape)\n",
    "train_data.to_csv('train_data.csv', index=False)\n",
    "valid_data.to_csv('valid_data.csv', index=False)\n",
    "test_data.to_csv('test_data.csv', index=False)"
   ]
  }
 ],
 "metadata": {
  "kernelspec": {
   "display_name": "global",
   "language": "python",
   "name": "python3"
  },
  "language_info": {
   "codemirror_mode": {
    "name": "ipython",
    "version": 3
   },
   "file_extension": ".py",
   "mimetype": "text/x-python",
   "name": "python",
   "nbconvert_exporter": "python",
   "pygments_lexer": "ipython3",
   "version": "3.9.6"
  }
 },
 "nbformat": 4,
 "nbformat_minor": 2
}
